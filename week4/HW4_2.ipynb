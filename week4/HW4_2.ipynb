{
 "cells": [
  {
   "cell_type": "markdown",
   "metadata": {},
   "source": [
    "# Description and Details:\n",
    "In this notebook, we will implement gradient descent with ridge from scratch.\n",
    "* Write a function to convert dataframe to numpy array\n",
    "* Write a Numpy function to compute the derivative of the regression weights with respect to a single feature\n",
    "* Write a prediction function given feature matrix and weights; a derivative function given errors, feature, weight, penalty; a gradient descent function to compute the regression weights given an initial weight vector, step_size, L2 penalty, maximum iteration\n",
    "* Implement ridge regression learning algorithm using gradient descent from scratch, compare the effects of penalty level on coefficients"
   ]
  },
  {
   "cell_type": "code",
   "execution_count": 42,
   "metadata": {},
   "outputs": [],
   "source": [
    "import pandas as pd\n",
    "import numpy as np\n",
    "import matplotlib.pyplot as plt\n",
    "%matplotlib inline\n",
    "import os"
   ]
  },
  {
   "cell_type": "markdown",
   "metadata": {},
   "source": [
    "## Load Data"
   ]
  },
  {
   "cell_type": "code",
   "execution_count": 16,
   "metadata": {},
   "outputs": [],
   "source": [
    "dtype_dict = {'bathrooms':float, 'waterfront':int, 'sqft_above':int, 'sqft_living15':float, 'grade':int, 'yr_renovated':int, 'price':float, 'bedrooms':float, 'zipcode':str, 'long':float, 'sqft_lot15':float, 'sqft_living':float, 'floors':str, 'condition':int, 'lat':float, 'date':str, 'sqft_basement':int, 'yr_built':int, 'id':str, 'sqft_lot':int, 'view':int}\n",
    "sales = pd.read_csv(\"kc_house_data_hw2.csv\", dtype = dtype_dict)"
   ]
  },
  {
   "cell_type": "markdown",
   "metadata": {},
   "source": [
    "## Get Numpy Array"
   ]
  },
  {
   "cell_type": "code",
   "execution_count": 17,
   "metadata": {},
   "outputs": [],
   "source": [
    "def get_numpy_data(data, features, output):\n",
    "    data['constant'] = 1 \n",
    "    features = ['constant'] + features \n",
    "    feature_matrix = data[features].to_numpy()\n",
    "    output_array = data[output].to_numpy()\n",
    "    return(feature_matrix, output_array)"
   ]
  },
  {
   "cell_type": "markdown",
   "metadata": {},
   "source": [
    "## Compute Prediction"
   ]
  },
  {
   "cell_type": "code",
   "execution_count": 18,
   "metadata": {},
   "outputs": [],
   "source": [
    "def predict_output(feature_matrix, weights):\n",
    "    predictions = np.dot(feature_matrix, weights)\n",
    "    return predictions"
   ]
  },
  {
   "cell_type": "markdown",
   "metadata": {},
   "source": [
    "## Compute Derivative"
   ]
  },
  {
   "cell_type": "code",
   "execution_count": 19,
   "metadata": {},
   "outputs": [],
   "source": [
    "# compute derivative for single feature\n",
    "def feature_derivative_ridge(errors, feature, weight, l2_penalty, feature_is_constant):\n",
    "    if feature_is_constant == True:\n",
    "        derivative = -2 * np.dot(errors, feature)\n",
    "    else:\n",
    "        derivative = -2 * np.dot(errors, feature) + 2 * l2_penalty * weight\n",
    "    return derivative"
   ]
  },
  {
   "cell_type": "code",
   "execution_count": 20,
   "metadata": {},
   "outputs": [
    {
     "name": "stdout",
     "output_type": "stream",
     "text": [
      "56554166815990.0\n",
      "56554166815990.0\n",
      "\n",
      "22446749330.0\n",
      "22446749330.0\n"
     ]
    }
   ],
   "source": [
    "# test functions:\n",
    "(example_features, example_output) = get_numpy_data(sales, ['sqft_living'], 'price') \n",
    "my_weights = np.array([1., 10.])\n",
    "test_predictions = predict_output(example_features, my_weights) \n",
    "errors = test_predictions - example_output # prediction errors\n",
    "\n",
    "# next two lines should print the same values\n",
    "print (feature_derivative_ridge(errors, example_features[:,1], my_weights[1], 1, False))\n",
    "print (-np.sum(errors*example_features[:,1])*2+20)\n",
    "print ('')\n",
    "\n",
    "# next two lines should print the same values\n",
    "print (feature_derivative_ridge(errors, example_features[:,0], my_weights[0], 1, True))\n",
    "print (-np.sum(errors)*2)"
   ]
  },
  {
   "cell_type": "markdown",
   "metadata": {},
   "source": [
    "## Gradient Descent with ridge"
   ]
  },
  {
   "cell_type": "code",
   "execution_count": 21,
   "metadata": {},
   "outputs": [],
   "source": [
    "def ridge_regression_gradient_descent(feature_matrix, output, initial_weights, step_size, \n",
    "                                      l2_penalty, max_iteration):\n",
    "    weights = np.array(initial_weights) # make sure it is a numpy array\n",
    "    converged = False\n",
    "    iteration = 0\n",
    "    #while not reached maximum number of iteration:\n",
    "    while not converged:\n",
    "        predictions = predict_output(feature_matrix, weights)\n",
    "        errors = output - predictions\n",
    "        for j in range(len(weights)):\n",
    "            if j == 0:\n",
    "                derivative = feature_derivative_ridge(errors, feature_matrix[:,j], weights[j], l2_penalty, True)\n",
    "            else:\n",
    "                derivative = feature_derivative_ridge(errors, feature_matrix[:,j], weights[j], l2_penalty, False)\n",
    "            weights[j] = weights[j]-step_size*derivative\n",
    "        iteration +=1\n",
    "        if iteration >= max_iteration:\n",
    "            converged = True\n",
    "    return weights"
   ]
  },
  {
   "cell_type": "code",
   "execution_count": 22,
   "metadata": {},
   "outputs": [],
   "source": [
    "# An alternative way:\n",
    "def ridge_regression_gradient_descent1(feature_matrix, output, initial_weights, step_size, l2_penalty, max_iterations=100):\n",
    "    print ('Starting gradient descent with l2_penalty = ' + str(l2_penalty))\n",
    "    \n",
    "    weights = np.array(initial_weights) # make sure it's a numpy array\n",
    "    iteration = 0 \n",
    "    print_frequency = 1  # for adjusting frequency of debugging output\n",
    "    \n",
    "    #while not reached maximum number of iterations:\n",
    "    while iteration < max_iterations:\n",
    "        iteration += 1 \n",
    "        \n",
    "        ### === code section for adjusting frequency of debugging output. ===\n",
    "        if iteration == 10:\n",
    "            print_frequency = 10\n",
    "        if iteration == 100:\n",
    "            print_frequency = 100\n",
    "        if iteration%print_frequency==0:\n",
    "            print('Iteration = ' , str(iteration))\n",
    "        ### === end code section ===\n",
    "        \n",
    "\n",
    "        predictions = predict_output(feature_matrix,weights)\n",
    "        errors = output - predictions\n",
    "        if iteration%print_frequency==0:\n",
    "            print ('Cost function = ', str(np.dot(errors,errors) + l2_penalty*(np.dot(weights,weights) - weights[0]**2)))\n",
    "        \n",
    "        for i in range(len(weights)): \n",
    "            if i ==0:\n",
    "                derivative = feature_derivative_ridge(errors, feature_matrix[:,i], weights[i], l2_penalty, True)\n",
    "            else:\n",
    "                derivative = feature_derivative_ridge(errors, feature_matrix[:,i], weights[i], l2_penalty, False)\n",
    "            weights[i] = weights[i] - step_size * derivative\n",
    "    print ('Done with gradient descent at iteration ', iteration)\n",
    "    print ('Learned weights = ', str(weights))\n",
    "    return weights"
   ]
  },
  {
   "cell_type": "markdown",
   "metadata": {},
   "source": [
    "### No regularization"
   ]
  },
  {
   "cell_type": "code",
   "execution_count": 23,
   "metadata": {},
   "outputs": [],
   "source": [
    "train_data = pd.read_csv(\"kc_house_train_data.csv\")\n",
    "test_data = pd.read_csv(\"kc_house_test_data.csv\")"
   ]
  },
  {
   "cell_type": "code",
   "execution_count": 24,
   "metadata": {},
   "outputs": [],
   "source": [
    "simple_features = ['sqft_living']\n",
    "my_output = 'price'\n",
    "(simple_feature_matrix, output) = get_numpy_data(train_data, simple_features, my_output)\n",
    "(simple_test_feature_matrix, test_output) = get_numpy_data(test_data, simple_features, my_output)"
   ]
  },
  {
   "cell_type": "code",
   "execution_count": 25,
   "metadata": {},
   "outputs": [
    {
     "data": {
      "text/plain": [
       "array([-1.63113515e-01,  2.63024369e+02])"
      ]
     },
     "execution_count": 25,
     "metadata": {},
     "output_type": "execute_result"
    }
   ],
   "source": [
    "simple_weights_0_penalty = ridge_regression_gradient_descent(simple_feature_matrix, output, \n",
    "                                                             [0., 0.], 1e-12, 0, 1000)  # be careful to set float here\n",
    "simple_weights_0_penalty"
   ]
  },
  {
   "cell_type": "code",
   "execution_count": 26,
   "metadata": {},
   "outputs": [
    {
     "name": "stdout",
     "output_type": "stream",
     "text": [
      "Starting gradient descent with l2_penalty = 0\n",
      "Iteration =  1\n",
      "Cost function =  7433051852335772.0\n",
      "Iteration =  2\n",
      "Cost function =  5394267213533688.0\n",
      "Iteration =  3\n",
      "Cost function =  4023237736286403.5\n",
      "Iteration =  4\n",
      "Cost function =  3101256183295487.5\n",
      "Iteration =  5\n",
      "Cost function =  2481247643601011.5\n",
      "Iteration =  6\n",
      "Cost function =  2064308076801446.8\n",
      "Iteration =  7\n",
      "Cost function =  1783927096156441.0\n",
      "Iteration =  8\n",
      "Cost function =  1595378201854742.2\n",
      "Iteration =  9\n",
      "Cost function =  1468583989698184.5\n",
      "Iteration =  10\n",
      "Cost function =  1383318190090050.8\n",
      "Iteration =  20\n",
      "Cost function =  1211562139024524.2\n",
      "Iteration =  30\n",
      "Cost function =  1208313761205656.5\n",
      "Iteration =  40\n",
      "Cost function =  1208252324779675.2\n",
      "Iteration =  50\n",
      "Cost function =  1208251162139724.5\n",
      "Iteration =  60\n",
      "Cost function =  1208251139442068.0\n",
      "Iteration =  70\n",
      "Cost function =  1208251138303840.8\n",
      "Iteration =  80\n",
      "Cost function =  1208251137573361.5\n",
      "Iteration =  90\n",
      "Cost function =  1208251136850594.0\n",
      "Iteration =  100\n",
      "Cost function =  1208251136127972.2\n",
      "Iteration =  200\n",
      "Cost function =  1208251128901788.5\n",
      "Iteration =  300\n",
      "Cost function =  1208251121675612.8\n",
      "Iteration =  400\n",
      "Cost function =  1208251114449445.5\n",
      "Iteration =  500\n",
      "Cost function =  1208251107223286.8\n",
      "Iteration =  600\n",
      "Cost function =  1208251099997135.8\n",
      "Iteration =  700\n",
      "Cost function =  1208251092770993.2\n",
      "Iteration =  800\n",
      "Cost function =  1208251085544859.0\n",
      "Iteration =  900\n",
      "Cost function =  1208251078318733.0\n",
      "Iteration =  1000\n",
      "Cost function =  1208251071092615.2\n",
      "Done with gradient descent at iteration  1000\n",
      "Learned weights =  [-1.63113515e-01  2.63024369e+02]\n"
     ]
    },
    {
     "data": {
      "text/plain": [
       "array([-1.63113515e-01,  2.63024369e+02])"
      ]
     },
     "execution_count": 26,
     "metadata": {},
     "output_type": "execute_result"
    }
   ],
   "source": [
    "# using the alternative function\n",
    "simple_weights_0_penalty = ridge_regression_gradient_descent1(simple_feature_matrix, output, \n",
    "                                                             [0., 0.], 1e-12, 0, 1000)  # be careful to set float here\n",
    "simple_weights_0_penalty"
   ]
  },
  {
   "cell_type": "code",
   "execution_count": 27,
   "metadata": {},
   "outputs": [
    {
     "data": {
      "text/plain": [
       "array([310368.59226564, 675972.46512752, 202528.60098983, ...,\n",
       "       402427.12140352, 420838.8272311 , 268284.69323118])"
      ]
     },
     "execution_count": 27,
     "metadata": {},
     "output_type": "execute_result"
    }
   ],
   "source": [
    "# use predict_output function\n",
    "predict_output(simple_feature_matrix, simple_weights_0_penalty)"
   ]
  },
  {
   "cell_type": "markdown",
   "metadata": {},
   "source": [
    "### high regularization"
   ]
  },
  {
   "cell_type": "code",
   "execution_count": 28,
   "metadata": {},
   "outputs": [
    {
     "data": {
      "text/plain": [
       "array([  9.76730382, 124.57217567])"
      ]
     },
     "execution_count": 28,
     "metadata": {},
     "output_type": "execute_result"
    }
   ],
   "source": [
    "simple_weights_high_penalty = ridge_regression_gradient_descent(simple_feature_matrix, output, \n",
    "                                                                [0.,0.], 1e-12, 1e11, 1000)\n",
    "simple_weights_high_penalty"
   ]
  },
  {
   "cell_type": "code",
   "execution_count": 29,
   "metadata": {},
   "outputs": [
    {
     "data": {
      "text/plain": [
       "array([147004.93459931, 320160.25878636,  95930.34257291, ...,\n",
       "       190605.19608526, 199325.24838244, 127073.38649144])"
      ]
     },
     "execution_count": 29,
     "metadata": {},
     "output_type": "execute_result"
    }
   ],
   "source": [
    "predict_output(simple_feature_matrix, simple_weights_high_penalty)"
   ]
  },
  {
   "cell_type": "markdown",
   "metadata": {},
   "source": [
    "### visualize coefficients"
   ]
  },
  {
   "cell_type": "code",
   "execution_count": 30,
   "metadata": {},
   "outputs": [
    {
     "data": {
      "image/png": "[encoded data removed]",
      "text/plain": [
       "<Figure size 432x288 with 1 Axes>"
      ]
     },
     "metadata": {
      "needs_background": "light"
     },
     "output_type": "display_data"
    }
   ],
   "source": [
    "fig, ax = plt.subplots() \n",
    "plt.scatter(simple_feature_matrix[:,1], output ,color='black', label = 'actual_price')  \n",
    "ax.plot(simple_feature_matrix[:,1],predict_output(simple_feature_matrix, simple_weights_0_penalty), color='blue', alpha = 0.5, linestyle = '-', label = 'no_penalty')  \n",
    "ax.plot(simple_feature_matrix[:,1],predict_output(simple_feature_matrix, simple_weights_high_penalty), color='red', alpha = 0.5, linestyle = '-', label = 'high_penalty')  \n",
    "\n",
    "ax.set_xlabel('sqft_living')\n",
    "ax.set_ylabel('pred_price')  \n",
    "#ax.set_title('predictions')\n",
    "\n",
    "# Remove the top and right lines\n",
    "ax.spines['right'].set_visible(False)\n",
    "ax.spines['top'].set_visible(False)  \n",
    "\n",
    "# Put text on the figure. \n",
    "ax.text(12000, 4*1e6, 'no penalty')           \n",
    "ax.text(12000, 1*1e6, 'high penalty')                          \n",
    "\n",
    "# add legend\n",
    "ax.legend()\n",
    "plt.show()"
   ]
  },
  {
   "cell_type": "markdown",
   "metadata": {},
   "source": [
    "### compute RSS on test data\n",
    "Compute the RSS on the TEST data for the following three sets of weights:\n",
    "\n",
    "* The initial weights (all zeros)\n",
    "* The weights learned with no regularization\n",
    "* The weights learned with high regularization"
   ]
  },
  {
   "cell_type": "code",
   "execution_count": 31,
   "metadata": {},
   "outputs": [
    {
     "name": "stdout",
     "output_type": "stream",
     "text": [
      "1784273286136298.0\n"
     ]
    }
   ],
   "source": [
    "predictions = predict_output(simple_test_feature_matrix, [0.,0.])\n",
    "error = test_output - predictions\n",
    "RSS = np.dot(error,error)\n",
    "print (RSS)"
   ]
  },
  {
   "cell_type": "code",
   "execution_count": 32,
   "metadata": {},
   "outputs": [
    {
     "name": "stdout",
     "output_type": "stream",
     "text": [
      "275723632153607.47\n"
     ]
    }
   ],
   "source": [
    "predictions = predict_output(simple_test_feature_matrix, simple_weights_0_penalty)\n",
    "error = test_output - predictions\n",
    "RSS = np.dot(error,error)\n",
    "print (RSS)"
   ]
  },
  {
   "cell_type": "code",
   "execution_count": 33,
   "metadata": {},
   "outputs": [
    {
     "name": "stdout",
     "output_type": "stream",
     "text": [
      "694642101489902.5\n"
     ]
    }
   ],
   "source": [
    "predictions = predict_output(simple_test_feature_matrix, simple_weights_high_penalty)\n",
    "error = test_output - predictions\n",
    "RSS = np.dot(error,error)\n",
    "print (RSS)"
   ]
  },
  {
   "cell_type": "markdown",
   "metadata": {},
   "source": [
    "## Running a multiple regression with L2 penalty"
   ]
  },
  {
   "cell_type": "code",
   "execution_count": 34,
   "metadata": {},
   "outputs": [],
   "source": [
    "model_features = ['sqft_living', 'sqft_living15'] # sqft_living15 is the average squarefeet for the nearest 15 neighbors. \n",
    "my_output = 'price'\n",
    "(feature_matrix, output) = get_numpy_data(train_data, model_features, my_output)\n",
    "(test_feature_matrix, test_output) = get_numpy_data(test_data, model_features, my_output)"
   ]
  },
  {
   "cell_type": "code",
   "execution_count": 35,
   "metadata": {},
   "outputs": [],
   "source": [
    "initial_weights = np.array([0.0,0.0,0.0])\n",
    "step_size = 1e-12\n",
    "max_iterations = 1000"
   ]
  },
  {
   "cell_type": "markdown",
   "metadata": {},
   "source": [
    "### No regularization"
   ]
  },
  {
   "cell_type": "code",
   "execution_count": 36,
   "metadata": {},
   "outputs": [],
   "source": [
    "multiple_weights_0_penalty = ridge_regression_gradient_descent(feature_matrix, output, initial_weights, step_size, 0.0, max_iterations)"
   ]
  },
  {
   "cell_type": "markdown",
   "metadata": {},
   "source": [
    "### high regularization"
   ]
  },
  {
   "cell_type": "code",
   "execution_count": 37,
   "metadata": {},
   "outputs": [],
   "source": [
    "multiple_weights_high_penalty = ridge_regression_gradient_descent(feature_matrix, output, initial_weights, step_size, 1e11, max_iterations)"
   ]
  },
  {
   "cell_type": "markdown",
   "metadata": {},
   "source": [
    "### compute RSS on test data"
   ]
  },
  {
   "cell_type": "code",
   "execution_count": 38,
   "metadata": {},
   "outputs": [
    {
     "name": "stdout",
     "output_type": "stream",
     "text": [
      "1784273286136298.0\n"
     ]
    }
   ],
   "source": [
    "predictions = predict_output(test_feature_matrix, initial_weights)\n",
    "error = test_output - predictions\n",
    "RSS = np.dot(error,error)\n",
    "print (RSS)"
   ]
  },
  {
   "cell_type": "code",
   "execution_count": 39,
   "metadata": {},
   "outputs": [
    {
     "name": "stdout",
     "output_type": "stream",
     "text": [
      "274067615918575.56\n"
     ]
    }
   ],
   "source": [
    "predictions = predict_output(test_feature_matrix, multiple_weights_0_penalty)\n",
    "error = test_output - predictions\n",
    "RSS = np.dot(error,error)\n",
    "print (RSS)"
   ]
  },
  {
   "cell_type": "code",
   "execution_count": 40,
   "metadata": {},
   "outputs": [
    {
     "name": "stdout",
     "output_type": "stream",
     "text": [
      "500404800500841.7\n"
     ]
    }
   ],
   "source": [
    "predictions = predict_output(test_feature_matrix, multiple_weights_high_penalty)\n",
    "error = test_output - predictions\n",
    "RSS = np.dot(error,error)\n",
    "print (RSS)"
   ]
  }
 ],
 "metadata": {
  "kernelspec": {
   "display_name": "Python 3",
   "language": "python",
   "name": "python3"
  },
  "language_info": {
   "codemirror_mode": {
    "name": "ipython",
    "version": 3
   },
   "file_extension": ".py",
   "mimetype": "text/x-python",
   "name": "python",
   "nbconvert_exporter": "python",
   "pygments_lexer": "ipython3",
   "version": "3.8.3"
  }
 },
 "nbformat": 4,
 "nbformat_minor": 4
}
