{
 "cells": [
  {
   "cell_type": "markdown",
   "metadata": {},
   "source": [
    "# Description and Details\n",
    "1. Load house sales data\n",
    "2. Add 4 new variables in training set and test set\n",
    "3. Estimate model 1, 2, 3 using three different sets of features\n",
    "4. Calculate RSS of three models on both training set and test set"
   ]
  },
  {
   "cell_type": "code",
   "execution_count": 1,
   "metadata": {},
   "outputs": [],
   "source": [
    "import pandas as pd\n",
    "import numpy as np\n",
    "import math\n",
    "from sklearn import linear_model"
   ]
  },
  {
   "cell_type": "code",
   "execution_count": 2,
   "metadata": {},
   "outputs": [],
   "source": [
    "sales = pd.read_csv('kc_house_data.csv')\n",
    "train_data = pd.read_csv('kc_house_train_data.csv')\n",
    "test_data = pd.read_csv('kc_house_test_data.csv')"
   ]
  },
  {
   "cell_type": "code",
   "execution_count": 3,
   "metadata": {},
   "outputs": [
    {
     "data": {
      "text/plain": [
       "id                 int64\n",
       "date              object\n",
       "price            float64\n",
       "bedrooms           int64\n",
       "bathrooms        float64\n",
       "sqft_living        int64\n",
       "sqft_lot           int64\n",
       "floors           float64\n",
       "waterfront         int64\n",
       "view               int64\n",
       "condition          int64\n",
       "grade              int64\n",
       "sqft_above         int64\n",
       "sqft_basement      int64\n",
       "yr_built           int64\n",
       "yr_renovated       int64\n",
       "zipcode            int64\n",
       "lat              float64\n",
       "long             float64\n",
       "sqft_living15      int64\n",
       "sqft_lot15         int64\n",
       "dtype: object"
      ]
     },
     "execution_count": 3,
     "metadata": {},
     "output_type": "execute_result"
    }
   ],
   "source": [
    "sales.dtypes"
   ]
  },
  {
   "cell_type": "markdown",
   "metadata": {},
   "source": [
    "# Create some new features"
   ]
  },
  {
   "cell_type": "code",
   "execution_count": 4,
   "metadata": {},
   "outputs": [],
   "source": [
    "train_data['bedrooms_squared'] = train_data['bedrooms'].apply(lambda x: x**2)\n",
    "train_data['bed_bath_rooms'] = train_data['bedrooms'] * train_data['bathrooms']\n",
    "\n",
    "train_data['log_sqft_living'] = train_data['sqft_living'].apply(lambda x: math.log(x))\n",
    "train_data['lat_plus_long'] = train_data['lat'] + train_data['long']\n",
    "\n",
    "test_data['bedrooms_squared'] = test_data['bedrooms'].apply(lambda x: x**2)\n",
    "test_data['bed_bath_rooms'] = test_data['bedrooms'] * test_data['bathrooms']\n",
    "\n",
    "\n",
    "test_data['log_sqft_living'] = test_data['sqft_living'].apply(lambda x: math.log(x))\n",
    "test_data['lat_plus_long'] = test_data['lat'] + test_data['long']"
   ]
  },
  {
   "cell_type": "markdown",
   "metadata": {},
   "source": [
    "# Learning Multiple Models"
   ]
  },
  {
   "cell_type": "code",
   "execution_count": 5,
   "metadata": {},
   "outputs": [],
   "source": [
    "feature_1 = ['sqft_living', 'bedrooms', 'bathrooms', 'lat', 'long']\n",
    "feature_2 = feature_1 + ['bed_bath_rooms']\n",
    "feature_3 = feature_2 + ['bedrooms_squared', 'log_sqft_living', 'lat_plus_long']"
   ]
  },
  {
   "cell_type": "code",
   "execution_count": 6,
   "metadata": {},
   "outputs": [],
   "source": [
    "lm = linear_model.LinearRegression()\n",
    "model_1 = lm.fit(train_data[feature_1], train_data['price'])\n",
    "lm = linear_model.LinearRegression()\n",
    "model_2 = lm.fit(train_data[feature_2], train_data['price'])\n",
    "lm = linear_model.LinearRegression()\n",
    "model_3 = lm.fit(train_data[feature_3], train_data['price'])"
   ]
  },
  {
   "cell_type": "code",
   "execution_count": 7,
   "metadata": {},
   "outputs": [
    {
     "name": "stdout",
     "output_type": "stream",
     "text": [
      "[ 3.12258646e+02 -5.95865332e+04  1.57067421e+04  6.58619264e+05\n",
      " -3.09374351e+05] -69075726.79256983\n",
      "[ 3.06610053e+02 -1.13446368e+05 -7.14613083e+04  6.54844630e+05\n",
      " -2.94298969e+05  2.55796520e+04] -66867968.8710789\n",
      "[ 5.29422820e+02  3.45142296e+04  6.70607813e+04  5.34085611e+05\n",
      " -4.06750711e+05 -8.57050439e+03 -6.78858667e+03 -5.61831484e+05\n",
      "  1.27334900e+05] -62036084.98609828\n"
     ]
    }
   ],
   "source": [
    "print(model_1.coef_, model_1.intercept_)\n",
    "print(model_2.coef_, model_2.intercept_)\n",
    "print(model_3.coef_, model_3.intercept_)"
   ]
  },
  {
   "cell_type": "markdown",
   "metadata": {},
   "source": [
    "# Comparing multiple models\n",
    "\n",
    "First use your functions from earlier to compute the RSS on TRAINING Data for each of the three models."
   ]
  },
  {
   "cell_type": "code",
   "execution_count": 8,
   "metadata": {},
   "outputs": [],
   "source": [
    "#predict on training data\n",
    "pred_model_1 = model_1.predict(train_data[feature_1])\n",
    "pred_model_2 = model_2.predict(train_data[feature_2])\n",
    "pred_model_3 = model_3.predict(train_data[feature_3])"
   ]
  },
  {
   "cell_type": "code",
   "execution_count": 9,
   "metadata": {},
   "outputs": [],
   "source": [
    "#predict on test data\n",
    "pred_model_test_1 = model_1.predict(test_data[feature_1])\n",
    "pred_model_test_2 = model_2.predict(test_data[feature_2])\n",
    "pred_model_test_3 = model_3.predict(test_data[feature_3])"
   ]
  },
  {
   "cell_type": "code",
   "execution_count": 10,
   "metadata": {},
   "outputs": [
    {
     "name": "stdout",
     "output_type": "stream",
     "text": [
      "RSS_train_1 is: 967879963049545.8 \n",
      "RSS_train_2 is: 958419635074069.8 \n",
      "RSS_train_3 is: 903436455050479.5\n"
     ]
    }
   ],
   "source": [
    "#compute RSS for training data\n",
    "RSS_train_1 = ((train_data['price'] - pred_model_1)**2).sum()\n",
    "RSS_train_2 = ((train_data['price'] - pred_model_2)**2).sum()\n",
    "RSS_train_3 = ((train_data['price'] - pred_model_3)**2).sum()\n",
    "print('RSS_train_1 is:', RSS_train_1, '\\n'  \n",
    "      'RSS_train_2 is:', RSS_train_2, '\\n'\n",
    "      'RSS_train_3 is:', RSS_train_3)"
   ]
  },
  {
   "cell_type": "code",
   "execution_count": 11,
   "metadata": {},
   "outputs": [
    {
     "name": "stdout",
     "output_type": "stream",
     "text": [
      "RSS_test_1 is: 225500469795489.97 \n",
      "RSS_test_2 is: 223377462976467.06 \n",
      "RSS_test_3 is: 259236319207179.94\n"
     ]
    }
   ],
   "source": [
    "#compute RSS for training data\n",
    "RSS_test_1 = ((test_data['price'] - pred_model_test_1)**2).sum()\n",
    "RSS_test_2 = ((test_data['price'] - pred_model_test_2)**2).sum()\n",
    "RSS_test_3 = ((test_data['price'] - pred_model_test_3)**2).sum()\n",
    "print('RSS_test_1 is:', RSS_test_1, '\\n'  \n",
    "      'RSS_test_2 is:', RSS_test_2, '\\n'\n",
    "      'RSS_test_3 is:', RSS_test_3)"
   ]
  },
  {
   "cell_type": "code",
   "execution_count": null,
   "metadata": {},
   "outputs": [],
   "source": []
  }
 ],
 "metadata": {
  "kernelspec": {
   "display_name": "Python 3",
   "language": "python",
   "name": "python3"
  },
  "language_info": {
   "codemirror_mode": {
    "name": "ipython",
    "version": 3
   },
   "file_extension": ".py",
   "mimetype": "text/x-python",
   "name": "python",
   "nbconvert_exporter": "python",
   "pygments_lexer": "ipython3",
   "version": "3.8.3"
  }
 },
 "nbformat": 4,
 "nbformat_minor": 4
}
